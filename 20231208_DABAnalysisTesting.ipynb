{
 "cells": [
  {
   "cell_type": "code",
   "execution_count": null,
   "id": "bd08423e",
   "metadata": {},
   "outputs": [],
   "source": [
    "from DAB_Analysis_Functions import DAB\n",
    "DAB_A = DAB()"
   ]
  },
  {
   "cell_type": "code",
   "execution_count": null,
   "id": "be3dcfce",
   "metadata": {},
   "outputs": [],
   "source": [
    "table_asyn, asyn_params = DAB_A.analyse_DAB('Example_Image_2.tif', asyn_params=np.array([27, 6, 5, 15]), use_defaults=1, check_mask=1)"
   ]
  },
  {
   "cell_type": "code",
   "execution_count": null,
   "id": "f7d60269",
   "metadata": {},
   "outputs": [],
   "source": [
    "table_asyn, table_nuclei, asyn_params, nuclei_params  = DAB_A.analyse_DAB_and_cells('Example_Image_2.tif')"
   ]
  }
 ],
 "metadata": {
  "kernelspec": {
   "display_name": "Python 3 (ipykernel)",
   "language": "python",
   "name": "python3"
  },
  "language_info": {
   "codemirror_mode": {
    "name": "ipython",
    "version": 3
   },
   "file_extension": ".py",
   "mimetype": "text/x-python",
   "name": "python",
   "nbconvert_exporter": "python",
   "pygments_lexer": "ipython3",
   "version": "3.10.12"
  }
 },
 "nbformat": 4,
 "nbformat_minor": 5
}
